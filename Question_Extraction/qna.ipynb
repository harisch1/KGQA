{
 "cells": [
  {
   "cell_type": "code",
   "execution_count": 2,
   "metadata": {},
   "outputs": [
    {
     "name": "stderr",
     "output_type": "stream",
     "text": [
      "C:\\Users\\haris\\AppData\\Local\\Programs\\Python\\Python39\\lib\\site-packages\\cupy\\_environment.py:213: UserWarning: CUDA path could not be detected. Set CUDA_PATH environment variable if CuPy fails to load.\n",
      "  warnings.warn(\n",
      "C:\\Users\\haris\\AppData\\Local\\Programs\\Python\\Python39\\lib\\site-packages\\cupy\\_environment.py:213: UserWarning: CUDA path could not be detected. Set CUDA_PATH environment variable if CuPy fails to load.\n",
      "  warnings.warn(\n",
      "C:\\Users\\haris\\AppData\\Local\\Programs\\Python\\Python39\\lib\\site-packages\\cupy\\_environment.py:213: UserWarning: CUDA path could not be detected. Set CUDA_PATH environment variable if CuPy fails to load.\n",
      "  warnings.warn(\n"
     ]
    }
   ],
   "source": [
    "import json\n",
    "import re\n",
    "import inflect\n",
    "import pandas as pd\n",
    "import spacy\n",
    "from _complex import ComplexFunc\n",
    "from py2neo import Graph\n",
    "from py2neo.matching import *\n",
    "import warnings\n",
    "# with warnings.catch_warnings():\n",
    "#     warnings.filterwarnings(\"ignore\")\n",
    "#     activated = spacy.prefer_gpu()\n",
    "#     warnings.warn('default')\n",
    "# activated"
   ]
  },
  {
   "cell_type": "code",
   "execution_count": 3,
   "metadata": {},
   "outputs": [],
   "source": [
    "class QuestionAnswer:\n",
    "    \"\"\"docstring for QuestionAnswer.\"\"\"\n",
    "\n",
    "    def __init__(self):\n",
    "        super(QuestionAnswer, self).__init__()\n",
    "        self.complex = ComplexFunc()\n",
    "        self.nlp = spacy.load('en_core_web_lg')\n",
    "        self.p = inflect.engine()\n",
    "        self.graph = Graph('bolt://localhost:7687', auth = (\"neo4j\", \"tester\"))\n",
    "        self.nodes_matcher = NodeMatcher(self.graph)\n",
    "        self.relationship_matcher = RelationshipMatcher(self.graph)\n",
    "    \n",
    "    def answer(self, question):\n",
    "        p=None\n",
    "        try:\n",
    "            p = self.complex.question_pairs(question.lower())[0]\n",
    "        except: \n",
    "            print()\n",
    "        if p == [] or p is None:\n",
    "            quest = self.nlp(q)\n",
    "            p = ['']*6\n",
    "            for tok in quest:\n",
    "                if tok.dep_ == 'compound' :\n",
    "                        p[0] = tok.text\n",
    "                elif tok.dep_ == 'nsubj' :\n",
    "                    p[0] += ' ' + tok.text\n",
    "                elif tok.dep_ == 'ROOT':\n",
    "                    p[1] = tok.text\n",
    "                elif tok.dep_ == 'attr':\n",
    "                    p[-1] = tok.text.lower()\n",
    "\n",
    "\n",
    "        if p[0] == 'unknown' or p[0] == '' or p[0] is None:\n",
    "            quest = self.nlp(q)\n",
    "            for tok in quest:\n",
    "                if tok.ent_type_ == 'PERSON' :\n",
    "                    if p[0] == 'unknown':\n",
    "                        p[0] = tok.text\n",
    "                    else: p[0] += ' ' + tok.text\n",
    "        \n",
    "        \n",
    "        for i in range(len(p)):\n",
    "            p[i] = p[i].replace('-', \" \")\n",
    "\n",
    "        if 'birth' in question.split():\n",
    "            p[1] = 'be' \n",
    "\n",
    "        if str(p[1].lower()) == \"born\":\n",
    "            qRel = 'be' \n",
    "        else:\n",
    "            rel = self.nlp(p[1])\n",
    "            for tok in rel:\n",
    "                qRel = tok.lemma_\n",
    "    \n",
    "\n",
    "        objectQ = p[3]\n",
    "        subList = []\n",
    "        timeQ = str(p[4]).lower()\n",
    "        placeQ = str(p[5]).lower()\n",
    "        res = ''\n",
    "        cypher = ''\n",
    "\n",
    "        print(p)\n",
    "        # Looking for a person or description of a person\n",
    "        if 'who' in p:\n",
    "            if objectQ != '':\n",
    "                cypher = f'match (n)-[r:{qRel} | {p[1].lower()}]-(m) where n.name contains \"{objectQ}\" or n.name contains \"{p[0].lower()}\" return m.name'\n",
    "            else:\n",
    "                cypher = f'match (n)-[r:{qRel} | {p[1].lower()}]-(m) where n.name contains \"{p[0].lower()}\" return m.name'\n",
    "\n",
    "            query = self.graph.run(cypher)\n",
    "            if query != None:\n",
    "                for node in query:\n",
    "                    doc = self.nlp(str(node))\n",
    "                    for i in doc:\n",
    "                        if i.ent_type_ == \"PERSON\":\n",
    "                            res += node[0] + \",\"\n",
    "                        if i.ent_type_ == \"NORP\":\n",
    "                            res += node[0] +','\n",
    "                if res != '':\n",
    "                    return res\n",
    "                return query.forward()\n",
    "            return \"Answer Not Found\"\n",
    "\n",
    "\n",
    "        # Return a Location\n",
    "        elif 'where' in p:\n",
    "            cypher = f'match (n)-[r:{qRel} | {p[1].lower()}]-(m) where n.name contains \"{p[0].lower()}\" return m.name as Result'\n",
    "            query = self.graph.run(cypher)\n",
    "            if query != None:\n",
    "                for node in query:\n",
    "                    doc = self.nlp(str(node))\n",
    "                    for i in doc:\n",
    "                        if i.ent_type_ == \"GPE\":\n",
    "                            res += node[0] + \",\"\n",
    "                        # if i.ent_type_ == \"NORP\":\n",
    "                        #     res += node[0] +','\n",
    "                if res != '':\n",
    "                    return res\n",
    "                return query.forward()\n",
    "            return \"Answer Not Found\"\n",
    "\n",
    "        elif 'what' in p:\n",
    "            splittedQ = question.split()\n",
    "            if \"place\" in splittedQ:\n",
    "                cypher = f'match (n)-[r:{qRel} | {p[1].lower()}]-(m) where n.name contains \"{p[0].lower()}\" return m.name as Result'\n",
    "                query = self.graph.run(cypher)\n",
    "                if query != 0:\n",
    "                    for node in query:\n",
    "                        doc = self.nlp(str(node))\n",
    "                        for i in doc:\n",
    "                            if i.ent_type_ == \"GPE\":\n",
    "                                res += node[0] + \",\"\n",
    "                            elif i.ent_type_ == \"ORG\":\n",
    "                                res += node[0] + \",\"\n",
    "                           \n",
    "                    if res != '':\n",
    "                        return res\n",
    "                    return query\n",
    "            else:\n",
    "                cypher = f'match (n)-[r:{qRel} | {p[1].lower()}]-(m) where n.name contains \"{p[0].lower()}\" and \"Thing\" in m.node_labels return m.name as Result'\n",
    "\n",
    "            return \"Answer Not Found\"\n",
    "\n",
    "\n",
    "        else:\n",
    "            if \"name\" in p:\n",
    "                cypher = f'match (n)-[]-(m) where n.name contains \"{p[4].lower()}\" and (\"Person\" in m.node_labels or \"Subject\" in m.node_labels) return m.name'\n",
    "                query = self.graph.run(cypher)\n",
    "                if query != None:\n",
    "                    names = []\n",
    "                    for name in query:\n",
    "                        doc = self.nlp(str(name))\n",
    "                        for i in doc:\n",
    "                            if i.ent_type_ == \"PERSON\":\n",
    "                                if name.values() not in names:\n",
    "                                    names.append(name.values())\n",
    "                    return names\n",
    "\n",
    "            else:\n",
    "                cypher = f'match (n)-[r:{qRel.lower()} | {p[1].lower()}]-(m) where n.name contains \"{p[0].lower()}\"  return m.name'\n",
    "\n",
    "                query = self.graph.run(cypher)\n",
    "            \n",
    "        print (cypher)\n",
    "        return query"
   ]
  },
  {
   "cell_type": "code",
   "execution_count": 4,
   "metadata": {},
   "outputs": [
    {
     "name": "stdout",
     "output_type": "stream",
     "text": [
      "['picasso birthplace', 'is', '', 'what', '', '']\n"
     ]
    },
    {
     "data": {
      "text/plain": [
       "'Answer Not Found'"
      ]
     },
     "execution_count": 4,
     "metadata": {},
     "output_type": "execute_result"
    }
   ],
   "source": [
    "q = \"What is Picasso birthplace?\"\n",
    "qp = QuestionAnswer()\n",
    "ans = qp.answer(q)\n",
    "ans"
   ]
  },
  {
   "cell_type": "code",
   "execution_count": null,
   "metadata": {},
   "outputs": [],
   "source": [
    "for i in ans:\n",
    "    print(i)"
   ]
  },
  {
   "cell_type": "code",
   "execution_count": 38,
   "metadata": {},
   "outputs": [
    {
     "data": {
      "text/plain": [
       "['18th-century']"
      ]
     },
     "execution_count": 38,
     "metadata": {},
     "output_type": "execute_result"
    }
   ],
   "source": [
    "'18th-century'.split()\n",
    "# doc= nlp(\"spanish painter\")\n",
    "# for tok in doc:\n",
    "#     print(tok.ent_type_)"
   ]
  },
  {
   "cell_type": "code",
   "execution_count": 16,
   "metadata": {},
   "outputs": [
    {
     "name": "stdout",
     "output_type": "stream",
     "text": [
      "When - \t advmod\n",
      "was - \t auxpass\n",
      "Van - \t compound\n",
      "Gogh - \t nsubj\n",
      "born - \t ROOT\n",
      "? - \t punct\n"
     ]
    }
   ],
   "source": [
    "nlp = spacy.load('en_core_web_lg')\n",
    "doc = nlp(str(\"When was Van Gogh born?\"))\n",
    "for i in doc:\n",
    "        print(i.text + \" - \\t \"+ i.dep_)"
   ]
  },
  {
   "cell_type": "code",
   "execution_count": 15,
   "metadata": {},
   "outputs": [
    {
     "ename": "UnboundLocalError",
     "evalue": "local variable 'subject' referenced before assignment",
     "output_type": "error",
     "traceback": [
      "\u001b[1;31m---------------------------------------------------------------------------\u001b[0m",
      "\u001b[1;31mUnboundLocalError\u001b[0m                         Traceback (most recent call last)",
      "\u001b[1;32md:\\Capstone Project\\KGQA\\Question_Extraction\\qna.ipynb Cell 7'\u001b[0m in \u001b[0;36m<cell line: 2>\u001b[1;34m()\u001b[0m\n\u001b[0;32m      <a href='vscode-notebook-cell:/d%3A/Capstone%20Project/KGQA/Question_Extraction/qna.ipynb#ch0000006?line=0'>1</a>\u001b[0m cp \u001b[39m=\u001b[39m ComplexFunc()\n\u001b[1;32m----> <a href='vscode-notebook-cell:/d%3A/Capstone%20Project/KGQA/Question_Extraction/qna.ipynb#ch0000006?line=1'>2</a>\u001b[0m cp\u001b[39m.\u001b[39;49mquestion_pairs(\u001b[39m\"\u001b[39;49m\u001b[39mWhen was vincent van gogh Born?\u001b[39;49m\u001b[39m\"\u001b[39;49m)\n",
      "File \u001b[1;32md:\\Capstone Project\\KGQA\\Question_Extraction\\_complex.py:532\u001b[0m, in \u001b[0;36mComplexFunc.question_pairs\u001b[1;34m(self, question__)\u001b[0m\n\u001b[0;32m    <a href='file:///d%3A/Capstone%20Project/KGQA/Question_Extraction/_complex.py?line=529'>530</a>\u001b[0m         \u001b[39mself\u001b[39m\u001b[39m.\u001b[39ment_pairs\u001b[39m.\u001b[39mappend([\u001b[39mstr\u001b[39m(subject)\u001b[39m.\u001b[39mlower(), \u001b[39mstr\u001b[39m(relation)\u001b[39m.\u001b[39mlower(),\u001b[39mstr\u001b[39m(aux_relation)\u001b[39m.\u001b[39mlower(), \u001b[39mstr\u001b[39m(\u001b[39m\"\u001b[39m\u001b[39m\"\u001b[39m)\u001b[39m.\u001b[39mlower(), \u001b[39mstr\u001b[39m(\u001b[39m\"\u001b[39m\u001b[39mwhen\u001b[39m\u001b[39m\"\u001b[39m)\u001b[39m.\u001b[39mlower(), \u001b[39mstr\u001b[39m(maybe_place[\u001b[39m0\u001b[39m])\u001b[39m.\u001b[39mlower()])\n\u001b[0;32m    <a href='file:///d%3A/Capstone%20Project/KGQA/Question_Extraction/_complex.py?line=530'>531</a>\u001b[0m     \u001b[39melse\u001b[39;00m:\n\u001b[1;32m--> <a href='file:///d%3A/Capstone%20Project/KGQA/Question_Extraction/_complex.py?line=531'>532</a>\u001b[0m         \u001b[39mself\u001b[39m\u001b[39m.\u001b[39ment_pairs\u001b[39m.\u001b[39mappend([\u001b[39mstr\u001b[39m(subject)\u001b[39m.\u001b[39mlower(), \u001b[39mstr\u001b[39m(relation)\u001b[39m.\u001b[39mlower(),\u001b[39mstr\u001b[39m(aux_relation)\u001b[39m.\u001b[39mlower(), \u001b[39mstr\u001b[39m(\u001b[39m\"\u001b[39m\u001b[39m\"\u001b[39m)\u001b[39m.\u001b[39mlower(), \u001b[39mstr\u001b[39m(\u001b[39m\"\u001b[39m\u001b[39mwhen\u001b[39m\u001b[39m\"\u001b[39m)\u001b[39m.\u001b[39mlower(), \u001b[39mstr\u001b[39m(\u001b[39m\"\u001b[39m\u001b[39m\"\u001b[39m)\u001b[39m.\u001b[39mlower()])\n\u001b[0;32m    <a href='file:///d%3A/Capstone%20Project/KGQA/Question_Extraction/_complex.py?line=533'>534</a>\u001b[0m \u001b[39m# ent_pairs.append([str(subject), str(relation), str(obj)])\u001b[39;00m\n\u001b[0;32m    <a href='file:///d%3A/Capstone%20Project/KGQA/Question_Extraction/_complex.py?line=534'>535</a>\u001b[0m \u001b[39m# print(self.ent_pairs)\u001b[39;00m\n\u001b[0;32m    <a href='file:///d%3A/Capstone%20Project/KGQA/Question_Extraction/_complex.py?line=535'>536</a>\u001b[0m \u001b[39mreturn\u001b[39;00m \u001b[39mself\u001b[39m\u001b[39m.\u001b[39ment_pairs\n",
      "\u001b[1;31mUnboundLocalError\u001b[0m: local variable 'subject' referenced before assignment"
     ]
    }
   ],
   "source": [
    "cp = ComplexFunc()\n",
    "cp.question_pairs(\"When was vincent van gogh Born?\")"
   ]
  },
  {
   "cell_type": "code",
   "execution_count": null,
   "metadata": {},
   "outputs": [],
   "source": []
  }
 ],
 "metadata": {
  "interpreter": {
   "hash": "025d9167e2ac5a8645e9495aa681c87935cbdf9d0befc4bc5a72c93f41644586"
  },
  "kernelspec": {
   "display_name": "Python 3.9.11 64-bit",
   "language": "python",
   "name": "python3"
  },
  "language_info": {
   "codemirror_mode": {
    "name": "ipython",
    "version": 3
   },
   "file_extension": ".py",
   "mimetype": "text/x-python",
   "name": "python",
   "nbconvert_exporter": "python",
   "pygments_lexer": "ipython3",
   "version": "3.9.11"
  },
  "orig_nbformat": 4
 },
 "nbformat": 4,
 "nbformat_minor": 2
}
