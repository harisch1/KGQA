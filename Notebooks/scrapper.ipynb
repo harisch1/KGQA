{
 "cells": [
  {
   "cell_type": "code",
   "execution_count": 5,
   "metadata": {},
   "outputs": [],
   "source": [
    "import requests\n",
    "from bs4 import BeautifulSoup\n",
    "import pickle"
   ]
  },
  {
   "cell_type": "code",
   "execution_count": 6,
   "metadata": {},
   "outputs": [],
   "source": [
    "def get_names(url = \"http://www.artcyclopedia.com/artists/AZ.html\"):\n",
    "    r = requests.get(url)\n",
    "    soup = BeautifulSoup(r.content, 'html5lib') \n",
    "    artists = []\n",
    "    for tag in soup.find_all('a'): \n",
    "        artists.append(tag.text)\n",
    "    return list(filter(None, artists))[:-10]"
   ]
  },
  {
   "cell_type": "code",
   "execution_count": 7,
   "metadata": {},
   "outputs": [],
   "source": [
    "def get_names(url):\n",
    "    r = requests.get(url)\n",
    "    soup = BeautifulSoup(r.content, 'html5lib') \n",
    "    artists = []\n",
    "    for tag in soup.find_all('strong'): \n",
    "        artists.append(tag)\n",
    "    print(type(r.content))\n",
    "    # print(soup.prettify())"
   ]
  },
  {
   "cell_type": "code",
   "execution_count": 8,
   "metadata": {},
   "outputs": [
    {
     "name": "stdout",
     "output_type": "stream",
     "text": [
      "<class 'bytes'>\n"
     ]
    }
   ],
   "source": [
    "artists = get_names(\"http://www.artcyclopedia.com/artists/AZ.html\")"
   ]
  },
  {
   "cell_type": "code",
   "execution_count": 36,
   "metadata": {},
   "outputs": [
    {
     "data": {
      "text/plain": [
       "159"
      ]
     },
     "execution_count": 36,
     "metadata": {},
     "output_type": "execute_result"
    }
   ],
   "source": [
    "# Manual Artist List\n",
    "list1 = ['Pablo Picasso', 'Vincent van Gogh', 'Leonardo da Vinci', 'Claude Monet', 'Salvador Dali', 'Henri Matisse', 'Rembrandt', 'Andy Warhol', \"Georgia O'Keeffe\", 'Michelangelo', 'Peter Paul Rubens', 'Edgar Degas', 'Caravaggio', 'Pierre-Auguste Renoir', 'Raphael', 'Paul Cezanne', 'Marc Chagall', 'Titian', 'Joan Miro', 'Jackson Pollock', 'Gustav Klimt', 'Albrecht Durer', 'Edward Hopper', 'Wassily Kandinsky', 'Jan Vermeer', 'Paul Klee', 'Edvard Munch', 'Goya', 'Janet Fish', 'Edouard Manet', 'Paul Gauguin']\n",
    "\n",
    "list2 = ['PABLO PICASSO', 'GIOTTO DI BONDONE', 'LEONARDO DA VINCI', 'PAUL CÉZANNE', 'REMBRANDT VAN RIJN', 'DIEGO VELÁZQUEZ', 'WASSILY KANDINSKY', 'CLAUDE MONET', 'MICHELANGELO MERISI DA CARAVAGGIO', 'JAN VAN EYCK', 'JOSEPH-MALLORD WILLIAM TURNER', 'ALBRECHT DÜRER', 'MICHELANGELO BUONARROTI', 'FRANCISCO DE GOYA', 'VINCENT VAN GOGH', 'ÉDOUARD MANET', 'HENRI MATISSE', 'RAFFAELLO SANZIO', 'JACKSON POLLOCK', 'HILMA AF KLINT ', 'DOMENIKOS THEOTOKOPOULOS · EL GRECO', 'PAUL GAUGUIN', 'JEAN-MICHEL BASQUIAT', 'EDVARD MUNCH', 'TIZIANO VECELLIO DI GREGORIO', 'FRANCIS BACON', 'ANDY WARHOL', 'SIR PETER PAUL RUBENS', 'JOHANNES VERMEER', 'JOAN MIRÓ', 'TOMMASO MASACCIO', 'ARTEMISIA GENTILESCHI', 'PIERO DELLA FRANCESCA', 'PIET MONDRIAN', 'GUSTAVE COURBET', 'NICOLAS POUSSIN', 'GUSTAV KLIMT', 'EUGÈNE DELACROIX', 'PAOLO UCCELLO', 'WILLIAM BLAKE', 'CASPAR DAVID FRIEDRICH', 'MAGDALENA CARMEN FRIDA KAHLO CLADERÓN', 'KAZIMIR MALEVICH', 'WINSLOW HOMER', 'GERHARD RICHTER', 'MARCEL DUCHAMP', 'SANDRO BOTTICELLI', 'EDWARD HOPPER', ' JENNY SAVILLE ', 'JENNY SAVILLE', 'MARK ROTHKO', 'ANDREA MANTEGNA', 'PAUL KLEE', 'MARC CHAGALL', 'HANS HOLBEIN THE YOUNGER', 'EDGAR DEGAS', 'FRA ANGELICO', 'GEORGES SEURAT', 'JEAN-ANTOINE WATTEAU', 'SALVADOR DALÍ', 'WILLEM DE KOONING', 'DAVID HOCKNEY', 'MAX ERNST', 'TINTORETTO', 'JASPER JOHNS', 'UMBERTO BOCCIONI', 'DUCCIO DA BUONINSEGNA', 'ROGER VAN DER WEYDEN', 'JOHN CONSTABLE', 'JACQUES-LOUIS DAVID', 'ARSHILLE GORKY', 'GIORGIO BARBARELLI DA CASTELFRANCO', 'HIERONYMUS BOSCH', 'PIETER BRUEGEL THE ELDER', 'SIMONE MARTINI', 'FRANZ MARC', 'THEODORE GÉRICAULT', 'WILLIAM HOGARTH', 'JEAN-BAPTISTE CAMILLE COROT', 'GEORGES BRAQUE', 'BERTHE MARIE PAULINE MORISOT', 'JAMES ABBOT MCNEILL WHISTLER', 'FREDERIC EDWIN CHURCH ', 'GEORGES DE LA TOUR', 'JEAN.FRANÇOIS MILLET', 'AMEDEO MODIGLIANI', 'ÉLISABETH-LOUISE VIGÉE LE BRUN', 'RENÉ MAGRITTE', 'CIMABUE', 'PIERRE-AUGUSTE RENOIR', 'EGON SCHIELE', 'DANTE GABRIEL ROSSETTI', 'FRANS HALS', 'CLAUDE LORRAIN', 'ROY LICHTENSTEIN', 'GEORGIA O’KEEFE', 'BANKSY', 'WILLIAM-ADOLPHE BOUGUEREAU', 'GUSTAVE MOREAU', 'GIORGIO DE CHIRICO', 'FERNAND LÉGER', 'JEAN-AUGUSTE-DOMINIQUE INGRES']\n",
    "list3 = list1+list2+pd.read_csv('artists.csv', usecols=['name']).squeeze(\"columns\").tolist()\n",
    "Artists = []\n",
    "[Artists.append(x) for x in list3 if x not in Artists]\n",
    "len(Artists)"
   ]
  },
  {
   "cell_type": "code",
   "execution_count": 37,
   "metadata": {},
   "outputs": [],
   "source": [
    "file_name = \"data/artists.pkl\"\n",
    "\n",
    "open_file = open(file_name, \"wb\")\n",
    "pickle.dump(Artists, open_file)\n",
    "open_file.close()"
   ]
  },
  {
   "cell_type": "code",
   "execution_count": 38,
   "metadata": {},
   "outputs": [
    {
     "name": "stdout",
     "output_type": "stream",
     "text": [
      "['Pablo Picasso', 'Vincent van Gogh', 'Leonardo da Vinci', 'Claude Monet', 'Salvador Dali', 'Henri Matisse', 'Rembrandt', 'Andy Warhol', \"Georgia O'Keeffe\", 'Michelangelo', 'Peter Paul Rubens', 'Edgar Degas', 'Caravaggio', 'Pierre-Auguste Renoir', 'Raphael', 'Paul Cezanne', 'Marc Chagall', 'Titian', 'Joan Miro', 'Jackson Pollock', 'Gustav Klimt', 'Albrecht Durer', 'Edward Hopper', 'Wassily Kandinsky', 'Jan Vermeer', 'Paul Klee', 'Edvard Munch', 'Goya', 'Janet Fish', 'Edouard Manet', 'Paul Gauguin', 'PABLO PICASSO', 'GIOTTO DI BONDONE', 'LEONARDO DA VINCI', 'PAUL CÉZANNE', 'REMBRANDT VAN RIJN', 'DIEGO VELÁZQUEZ', 'WASSILY KANDINSKY', 'CLAUDE MONET', 'MICHELANGELO MERISI DA CARAVAGGIO', 'JAN VAN EYCK', 'JOSEPH-MALLORD WILLIAM TURNER', 'ALBRECHT DÜRER', 'MICHELANGELO BUONARROTI', 'FRANCISCO DE GOYA', 'VINCENT VAN GOGH', 'ÉDOUARD MANET', 'HENRI MATISSE', 'RAFFAELLO SANZIO', 'JACKSON POLLOCK', 'HILMA AF KLINT ', 'DOMENIKOS THEOTOKOPOULOS · EL GRECO', 'PAUL GAUGUIN', 'JEAN-MICHEL BASQUIAT', 'EDVARD MUNCH', 'TIZIANO VECELLIO DI GREGORIO', 'FRANCIS BACON', 'ANDY WARHOL', 'SIR PETER PAUL RUBENS', 'JOHANNES VERMEER', 'JOAN MIRÓ', 'TOMMASO MASACCIO', 'ARTEMISIA GENTILESCHI', 'PIERO DELLA FRANCESCA', 'PIET MONDRIAN', 'GUSTAVE COURBET', 'NICOLAS POUSSIN', 'GUSTAV KLIMT', 'EUGÈNE DELACROIX', 'PAOLO UCCELLO', 'WILLIAM BLAKE', 'CASPAR DAVID FRIEDRICH', 'MAGDALENA CARMEN FRIDA KAHLO CLADERÓN', 'KAZIMIR MALEVICH', 'WINSLOW HOMER', 'GERHARD RICHTER', 'MARCEL DUCHAMP', 'SANDRO BOTTICELLI', 'EDWARD HOPPER', ' JENNY SAVILLE ', 'JENNY SAVILLE', 'MARK ROTHKO', 'ANDREA MANTEGNA', 'PAUL KLEE', 'MARC CHAGALL', 'HANS HOLBEIN THE YOUNGER', 'EDGAR DEGAS', 'FRA ANGELICO', 'GEORGES SEURAT', 'JEAN-ANTOINE WATTEAU', 'SALVADOR DALÍ', 'WILLEM DE KOONING', 'DAVID HOCKNEY', 'MAX ERNST', 'TINTORETTO', 'JASPER JOHNS', 'UMBERTO BOCCIONI', 'DUCCIO DA BUONINSEGNA', 'ROGER VAN DER WEYDEN', 'JOHN CONSTABLE', 'JACQUES-LOUIS DAVID', 'ARSHILLE GORKY', 'GIORGIO BARBARELLI DA CASTELFRANCO', 'HIERONYMUS BOSCH', 'PIETER BRUEGEL THE ELDER', 'SIMONE MARTINI', 'FRANZ MARC', 'THEODORE GÉRICAULT', 'WILLIAM HOGARTH', 'JEAN-BAPTISTE CAMILLE COROT', 'GEORGES BRAQUE', 'BERTHE MARIE PAULINE MORISOT', 'JAMES ABBOT MCNEILL WHISTLER', 'FREDERIC EDWIN CHURCH ', 'GEORGES DE LA TOUR', 'JEAN.FRANÇOIS MILLET', 'AMEDEO MODIGLIANI', 'ÉLISABETH-LOUISE VIGÉE LE BRUN', 'RENÉ MAGRITTE', 'CIMABUE', 'PIERRE-AUGUSTE RENOIR', 'EGON SCHIELE', 'DANTE GABRIEL ROSSETTI', 'FRANS HALS', 'CLAUDE LORRAIN', 'ROY LICHTENSTEIN', 'GEORGIA O’KEEFE', 'BANKSY', 'WILLIAM-ADOLPHE BOUGUEREAU', 'GUSTAVE MOREAU', 'GIORGIO DE CHIRICO', 'FERNAND LÉGER', 'JEAN-AUGUSTE-DOMINIQUE INGRES', 'Amedeo Modigliani', 'Vasiliy Kandinskiy', 'Diego Rivera', 'Rene Magritte', 'Andrei Rublev', 'Hieronymus Bosch', 'Kazimir Malevich', 'Mikhail Vrubel', 'Francisco Goya', 'Frida Kahlo', 'El Greco', 'Albrecht Dürer', 'Alfred Sisley', 'Pieter Bruegel', 'Giotto di Bondone', 'Sandro Botticelli', 'Diego Velazquez', 'Jan van Eyck', 'Henri de Toulouse-Lautrec', 'Gustave Courbet', 'Camille Pissarro', 'William Turner', 'Eugene Delacroix', 'Henri Rousseau', 'Georges Seurat', 'Piet Mondrian']\n"
     ]
    }
   ],
   "source": [
    "file_name = \"data/artists.pkl\"\n",
    "\n",
    "open_file = open(file_name, \"rb\")\n",
    "Artists = pickle.load(open_file)\n",
    "open_file.close()\n",
    "\n",
    "print(Artists)"
   ]
  },
  {
   "cell_type": "code",
   "execution_count": 2,
   "metadata": {},
   "outputs": [],
   "source": [
    "import wikipediaapi  # pip install wikipedia-api\n",
    "import pandas as pd\n",
    "import concurrent.futures\n",
    "from tqdm import tqdm\n",
    "\n",
    "def scrape_wikipedia(name_topic, verbose=True):\n",
    "   def link_to_wikipedia(link):\n",
    "       try:\n",
    "           page = api_wikipedia.page(link)\n",
    "           if page.exists():\n",
    "               return {'page': link, 'text': page.text, 'link': page.fullurl, 'categories': list(page.categories.keys())}\n",
    "       except:\n",
    "           return None\n",
    "      \n",
    "   api_wikipedia = wikipediaapi.Wikipedia(language='en', extract_format=wikipediaapi.ExtractFormat.WIKI)\n",
    "   name_of_page = api_wikipedia.page(name_topic)\n",
    "   if not name_of_page.exists():\n",
    "       print('Page {} is not present'.format(name_of_page))\n",
    "       return\n",
    "  \n",
    "   links_to_page = list(name_of_page.links.keys())\n",
    "   procceed = tqdm(desc='Scraped links', unit='', total=len(links_to_page)) if verbose else None\n",
    "   origin = [{'page': name_topic, 'text': name_of_page.text, 'link': name_of_page.fullurl, 'categories': list(name_of_page.categories.keys())}]\n",
    "  \n",
    "   with concurrent.futures.ThreadPoolExecutor(max_workers=100) as executor:\n",
    "       links_future = {executor.submit(link_to_wikipedia, link): link for link in links_to_page}\n",
    "       for future in concurrent.futures.as_completed(links_future):\n",
    "           info = future.result()\n",
    "           origin.append(info) if info else None\n",
    "           procceed.update(1) if verbose else None\n",
    "   procceed.close() if verbose else None\n",
    "  \n",
    "   namespaces = ('Wikipedia', 'Special', 'Talk', 'LyricWiki', 'File', 'MediaWiki',\n",
    "                 'Template', 'Help', 'User', 'Category talk', 'Portal talk')\n",
    "   origin = pd.DataFrame(origin)\n",
    "   origin = origin[(len(origin['text']) > 20)\n",
    "                     & ~(origin['page'].str.startswith(namespaces, na=True))]\n",
    "   origin['categories'] = origin.categories.apply(lambda a: [b[9:] for b in a])\n",
    "\n",
    "   origin['topic'] = name_topic\n",
    "   print('Scraped pages', len(origin))\n",
    "  \n",
    "   return origin"
   ]
  },
  {
   "cell_type": "code",
   "execution_count": 3,
   "metadata": {},
   "outputs": [],
   "source": [
    "import wikipediaapi\n",
    "import pandas as pd\n",
    "\n",
    "def scrape_wikipedia(name_topic, verbose=True):\n",
    "      \n",
    "    api_wikipedia = wikipediaapi.Wikipedia(language='en', extract_format=wikipediaapi.ExtractFormat.WIKI)\n",
    "    name_of_page = api_wikipedia.page(name_topic)\n",
    "    if not name_of_page.exists:\n",
    "       print('Page {} is not present'.format(name_of_page))\n",
    "       return\n",
    "    \n",
    "    return api_wikipedia.page(name_topic).summary"
   ]
  },
  {
   "cell_type": "code",
   "execution_count": 30,
   "metadata": {},
   "outputs": [
    {
     "data": {
      "text/plain": [
       "Section: Nazi-looted art (1):\n",
       "During the Nazi period 1933–1945 a great number of artworks by Van Gogh changed hands, many of them looted from Jewish collectors who were forced into exile or murdered. Some of these works have disappeared into private collections. Others have since resurfaced in museums, or at auction, or have been reclaimed, often in high-profile lawsuits, by their former owners. The German Lost Art Foundation still lists dozens of missing van Goghs and the American Alliance of Museums lists 73 van Goghs on the Nazi Era Provenance Internet Portal.\n",
       "Subsections (0):"
      ]
     },
     "execution_count": 30,
     "metadata": {},
     "output_type": "execute_result"
    }
   ],
   "source": [
    "wiki_data = scrape_wikipedia('Van Gogh')\n",
    "wiki_data[4]"
   ]
  },
  {
   "cell_type": "code",
   "execution_count": 39,
   "metadata": {},
   "outputs": [
    {
     "name": "stdout",
     "output_type": "stream",
     "text": [
      "Page not found for MAGDALENA CARMEN FRIDA KAHLO CLADERÓN with [].\n"
     ]
    },
    {
     "data": {
      "text/plain": [
       "247"
      ]
     },
     "execution_count": 39,
     "metadata": {},
     "output_type": "execute_result"
    }
   ],
   "source": [
    "from wikipedia import search, suggest, page, summary\n",
    "import wikipediaapi\n",
    "import pandas as pd\n",
    "import tqdm\n",
    "\n",
    "final = {}\n",
    "api_wikipedia = wikipediaapi.Wikipedia(language='en', extract_format=wikipediaapi.ExtractFormat.WIKI)\n",
    "pages = []\n",
    "for artist in tqdm(Artists):\n",
    "    suggestions = search(artist)\n",
    "    try:\n",
    "        pages.append(api_wikipedia.page(suggestions[0]))\n",
    "        final[suggestions[0]] = api_wikipedia.page(suggestions[0]).summary\n",
    "        for title in suggestions: \n",
    "            if artist in title: \n",
    "                if api_wikipedia.page(title) not in pages:\n",
    "                    pages.append(api_wikipedia.page(title))\n",
    "                    try:\n",
    "                        final[title] = api_wikipedia.page(title).content\n",
    "                    except:\n",
    "                        final[title] = api_wikipedia.page(title).summary\n",
    "    except:\n",
    "        print(f'Page not found for {artist} with {suggestions}.')\n",
    "    \n",
    "len(final)"
   ]
  },
  {
   "cell_type": "code",
   "execution_count": 43,
   "metadata": {},
   "outputs": [],
   "source": [
    "import json\n",
    "with open('data/text_dump.json', 'w') as fp:\n",
    "    json.dump(final, fp)"
   ]
  },
  {
   "cell_type": "code",
   "execution_count": 13,
   "metadata": {},
   "outputs": [],
   "source": [
    "complete_data = []\n",
    "for artist in loaded_list:\n",
    "    wiki_data = scrape_wikipedia(artist)\n",
    "    complete_data.append(wiki_data)"
   ]
  },
  {
   "cell_type": "code",
   "execution_count": 46,
   "metadata": {},
   "outputs": [],
   "source": [
    "complete_data = complete_data.reset_index().drop(columns=['index'])\n",
    "complete_data.drop_duplicates(subset=['page'], inplace=True)\n",
    "complete_data.to_pickle('data.pkl')"
   ]
  },
  {
   "cell_type": "code",
   "execution_count": 21,
   "metadata": {},
   "outputs": [],
   "source": [
    "# data = dict()\n",
    "# for i in (range(len(complete_data))): data[i]=complete_data[i]\n",
    "# import json\n",
    "with open('text_dump.json', 'r') as fp:\n",
    "    data = json.load(fp)\n"
   ]
  },
  {
   "cell_type": "code",
   "execution_count": 50,
   "metadata": {},
   "outputs": [],
   "source": [
    "import pickle\n",
    "import pandas as pd\n",
    "file_name = \"data.pkl\"\n",
    "open_file = open(file_name, \"rb\")\n",
    "loaded_df = pd.read_pickle(open_file)\n",
    "open_file.close()\n",
    "\n",
    "\n"
   ]
  },
  {
   "cell_type": "code",
   "execution_count": 55,
   "metadata": {},
   "outputs": [],
   "source": [
    "file_name = \"text.pkl\"\n",
    "\n",
    "open_file = open(file_name, \"wb\")\n",
    "pickle.dump(loaded_df['text'].tolist(), open_file)\n",
    "open_file.close()"
   ]
  }
 ],
 "metadata": {
  "interpreter": {
   "hash": "025d9167e2ac5a8645e9495aa681c87935cbdf9d0befc4bc5a72c93f41644586"
  },
  "kernelspec": {
   "display_name": "Python 3.9.11 64-bit",
   "language": "python",
   "name": "python3"
  },
  "language_info": {
   "codemirror_mode": {
    "name": "ipython",
    "version": 3
   },
   "file_extension": ".py",
   "mimetype": "text/x-python",
   "name": "python",
   "nbconvert_exporter": "python",
   "pygments_lexer": "ipython3",
   "version": "3.9.11"
  },
  "orig_nbformat": 4
 },
 "nbformat": 4,
 "nbformat_minor": 2
}
